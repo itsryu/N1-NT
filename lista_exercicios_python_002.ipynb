{
  "nbformat": 4,
  "nbformat_minor": 0,
  "metadata": {
    "colab": {
      "provenance": [],
      "authorship_tag": "ABX9TyPB2fDqTzIrfdtQ6aqPcZpx",
      "include_colab_link": true
    },
    "kernelspec": {
      "name": "python3",
      "display_name": "Python 3"
    },
    "language_info": {
      "name": "python"
    }
  },
  "cells": [
    {
      "cell_type": "markdown",
      "metadata": {
        "id": "view-in-github",
        "colab_type": "text"
      },
      "source": [
        "<a href=\"https://colab.research.google.com/github/itsryu/N1-NT/blob/main/lista_exercicios_python_002.ipynb\" target=\"_parent\"><img src=\"https://colab.research.google.com/assets/colab-badge.svg\" alt=\"Open In Colab\"/></a>"
      ]
    },
    {
      "cell_type": "markdown",
      "source": [
        "\n",
        "\n",
        "1.   Crie um programa que solicita ao usuário o nome de 2 produtos, suas quantidades em estoque e seus preços unitários. Depois, exiba uma tabela formatada com alinhamento justificado, casas decimais nos preços e total de cada produto. Use f-strings e. format() para praticar os dois métodos.\n",
        "\n"
      ],
      "metadata": {
        "id": "K4YBA1Uv8BYP"
      }
    },
    {
      "cell_type": "code",
      "execution_count": 1,
      "metadata": {
        "colab": {
          "base_uri": "https://localhost:8080/"
        },
        "id": "aPSDTuhK2qjz",
        "outputId": "dc547712-8cc8-47c4-8c78-a6e128e46531"
      },
      "outputs": [
        {
          "output_type": "stream",
          "name": "stdout",
          "text": [
            "Digite a quantidade de produtos a serem lidos: 2\n",
            "Digite o nome do 1º produto: banana\n",
            "Digite a quantidade do 1º produto: 3\n",
            "Digite o preço do 1º produto: 10\n",
            "\n",
            "\n",
            "Digite o nome do 2º produto: batata\n",
            "Digite a quantidade do 2º produto: 5\n",
            "Digite o preço do 2º produto: 3\n",
            "\n",
            "\n",
            "Produto   Quantidade     Preço     Total     \n",
            "banana    3              10.00     30.00     \n",
            "batata    5              3.00      15.00     \n"
          ]
        }
      ],
      "source": [
        "produto = []\n",
        "quantidade = []\n",
        "preco = []\n",
        "quantidade_produtos = int(input(\"Digite a quantidade de produtos a serem lidos: \"))\n",
        "\n",
        "for i in range(quantidade_produtos):\n",
        "    produto.insert(i, input(f\"Digite o nome do {i+1}º produto: \"))\n",
        "    quantidade.insert(i, int(input(f\"Digite a quantidade do {i+1}º produto: \")))\n",
        "    preco.insert(i, float(input(f\"Digite o preço do {i+1}º produto: \")))\n",
        "    print(\"\\n\")\n",
        "\n",
        "print(f\"{'Produto':<10}{'Quantidade':<15}{'Preço':<10}{'Total':<10}\")\n",
        "\n",
        "for i in range(quantidade_produtos):\n",
        "    print(f\"{produto[i]:<10}{quantidade[i]:<15}{preco[i]:<10.2f}{quantidade[i]*preco[i]:<10.2f}\")"
      ]
    },
    {
      "cell_type": "markdown",
      "source": [
        "2. Solicite o nome completo de um cliente, o número do pedido e a data de emissão. Formate uma fatura em formato fixo como se fosse enviada por e-mail. O layout deve conter espaços definidos, alinhamento central e colunas formatadas. Use .format() com placeholders posicionais e nomeados."
      ],
      "metadata": {
        "id": "0RrM-2JO9n9z"
      }
    },
    {
      "cell_type": "code",
      "source": [
        "from datetime import datetime\n",
        "\n",
        "nome = input(\"Digite o nome completo do cliente: \")\n",
        "numero = int(input(\"Digite o número do pedido: \"))\n",
        "data = datetime.strptime(input(\"Digite a data de emissão (dd/mm/yyyy): \"), \"%d/%m/%Y\").strftime(\"%d-%m-%Y\")\n",
        "\n",
        "print(\"\"\"\n",
        "========================================\n",
        "              FATURA\n",
        "========================================\n",
        "Cliente: {nome:^30}\n",
        "Pedido Nº: {pedido:^30}\n",
        "Data de Emissão: {data:^30}\n",
        "========================================\n",
        "\"\"\".format(nome=nome, pedido=numero, data=data))"
      ],
      "metadata": {
        "colab": {
          "base_uri": "https://localhost:8080/"
        },
        "id": "vjkv-Sja9u14",
        "outputId": "52370d54-f306-4543-d8ea-995dff814ecb"
      },
      "execution_count": 2,
      "outputs": [
        {
          "output_type": "stream",
          "name": "stdout",
          "text": [
            "Digite o nome completo do cliente: João da Silva\n",
            "Digite o número do pedido: 237273238\n",
            "Digite a data de emissão (dd/mm/yyyy): 07/03/2025\n",
            "\n",
            "========================================\n",
            "              FATURA\n",
            "========================================\n",
            "Cliente:         João da Silva         \n",
            "Pedido Nº:           237273238           \n",
            "Data de Emissão:           07-03-2025          \n",
            "========================================\n",
            "\n"
          ]
        }
      ]
    },
    {
      "cell_type": "markdown",
      "source": [
        "3. Peça ao usuário que digite um CPF apenas com números (11 dígitos) e exiba o CPF formatado corretamente no padrão ###.###.###-## utilizando f-strings."
      ],
      "metadata": {
        "id": "Jg2WqwCHBd5T"
      }
    },
    {
      "cell_type": "code",
      "source": [
        "cpf = input(\"Digite o CPF (apenas números): \")\n",
        "\n",
        "while (len(cpf) != 11 or not cpf.isdigit()):\n",
        "    print(\"CPF inválido. Certifique-se de digitar 11 números.\")\n",
        "    cpf = input(\"Digite o CPF (apenas números): \")\n",
        "\n",
        "print(f\"{cpf[:3]}.{cpf[3:6]}.{cpf[6:9]}-{cpf[9:]}\")"
      ],
      "metadata": {
        "colab": {
          "base_uri": "https://localhost:8080/"
        },
        "id": "ByLXeSTaBhzz",
        "outputId": "3ae829a9-fa75-4365-b26b-1e41a944934a"
      },
      "execution_count": 3,
      "outputs": [
        {
          "output_type": "stream",
          "name": "stdout",
          "text": [
            "Digite o CPF (apenas números): 12345678900\n",
            "123.456.789-00\n"
          ]
        }
      ]
    },
    {
      "cell_type": "markdown",
      "source": [
        "4. Implemente uma função que recebe uma lista de produtos (nome, quantidade, preço unitário) e retorna uma string formatada em estilo de cupom fiscal de supermercado. Inclua nome da loja, data, e o valor total no final, com todos os valores alinhados e com R$ corretamente formatado.\n",
        "\n",
        "```\n",
        "Supermercado Malvader     \n",
        "Data:        05/03/2025 16:24       \n",
        "------------------------------\n",
        "Item             Qtd     Preço\n",
        "Caderno            2     12.50\n",
        "Caneta            10      2.75\n",
        "------------------------------\n",
        "Total                    52.50\n",
        "```\n",
        "\n"
      ],
      "metadata": {
        "id": "Wghsj398COi3"
      }
    },
    {
      "cell_type": "code",
      "source": [
        "from datetime import datetime\n",
        "from typing import List, NamedTuple\n",
        "\n",
        "produtos = []\n",
        "\n",
        "class Produto(NamedTuple):\n",
        "    nome: str\n",
        "    quantidade: int\n",
        "    preco: float\n",
        "\n",
        "def formatar_recibo(produtos: List[Produto]) -> str:\n",
        "    nome_loja = \"Supermercado Malvader\"\n",
        "    data = datetime.now().strftime(\"%d/%m/%Y %H:%M\")\n",
        "    cabecalho = f\"{nome_loja}\\nData:        {data}\\n\" + \"-\" * 30\n",
        "    cabecalho_itens = \"Item             Qtd     Preço\"\n",
        "    itens = \"\"\n",
        "    total = 0.0\n",
        "\n",
        "    for produto in produtos:\n",
        "        total += produto.quantidade * produto.preco\n",
        "        itens += f\"{produto.nome:<15}{produto.quantidade:>5}{produto.preco:>10.2f}\\n\"\n",
        "\n",
        "    rodape = \"-\" * 30 + f\"\\nTotal{total:>23.2f}\"\n",
        "    recibo = f\"{cabecalho}\\n{cabecalho_itens}\\n{itens}{rodape}\"\n",
        "    return recibo\n",
        "\n",
        "while (quantidade_produtos := int(input(\"Digite a quantidade de produtos: \"))) <= 0:\n",
        "    print(\"Valor inserido é inválido, insira um valor válido.\\n\")\n",
        "\n",
        "for i in range(quantidade_produtos):\n",
        "    nome = input(f\"Digite o nome do {i+1}º produto: \")\n",
        "    quantidade = int(input(f\"Digite a quantidade do {i+1}º produto: \"))\n",
        "    preco = float(input(f\"Digite o preço do {i+1}º produto: \"))\n",
        "    produtos.append(Produto(nome, quantidade, preco))\n",
        "    print(\"\\n\")\n",
        "\n",
        "print(formatar_recibo(produtos))"
      ],
      "metadata": {
        "id": "Pxit96ytSEVF"
      },
      "execution_count": null,
      "outputs": []
    },
    {
      "cell_type": "markdown",
      "source": [
        "5. Dado um dicionário com nomes de alunos e suas notas, gere um boletim formatado onde:\n",
        "\n",
        "- Notas acima de 7 aparecem em verde (use ANSI escape codes).\n",
        "- Notas entre 5 e 7 aparecem em amarelo.\n",
        "- Notas abaixo de 5 aparecem em vermelho.\n",
        "\n",
        "Exemplo:\n",
        "\n",
        "```\n",
        "Boletim:\n",
        "Ana       :  9.5 (Aprovado)\n",
        "João      :  4.0 (Reprovado)\n",
        "Maria     :  6.5 (Recuperação)\n",
        "```\n",
        "\n"
      ],
      "metadata": {
        "id": "CIbzO0kISK1j"
      }
    },
    {
      "cell_type": "code",
      "source": [
        "from typing import NamedTuple\n",
        "\n",
        "class Aluno(NamedTuple):\n",
        "    nome: str\n",
        "    nota: float\n",
        "\n",
        "alunos_notas = {\n",
        "    Aluno(\"João\", 8.0),\n",
        "    Aluno(\"Maria\", 5.5),\n",
        "    Aluno(\"José\", 3.0),\n",
        "    Aluno(\"Ana\", 7.0),\n",
        "    Aluno(\"Carlos\", 4.0),\n",
        "    Aluno(\"Mariana\", 6.5),\n",
        "    Aluno(\"Pedro\", 9.0),\n",
        "}\n",
        "\n",
        "GREEN = \"\\033[92m\"\n",
        "YELLOW = \"\\033[93m\"\n",
        "RED = \"\\033[91m\"\n",
        "RESET = \"\\033[0m\"\n",
        "\n",
        "def nota(nota):\n",
        "    if nota >= 7:\n",
        "        return f\"{GREEN}{nota:.1f} (Aprovado){RESET}\"\n",
        "    elif 5 <= nota < 7:\n",
        "        return f\"{YELLOW}{nota:.1f} (Recuperação){RESET}\"\n",
        "    else:\n",
        "        return f\"{RED}{nota:.1f} (Reprovado){RESET}\"\n",
        "\n",
        "for aluno in alunos_notas:\n",
        "    print(f\"{aluno.nome:<10} {nota(aluno.nota)}\")"
      ],
      "metadata": {
        "colab": {
          "base_uri": "https://localhost:8080/"
        },
        "id": "uZ38-c9yTzS1",
        "outputId": "b7b67366-1c2a-420b-bd00-19e775fb35ba"
      },
      "execution_count": 5,
      "outputs": [
        {
          "output_type": "stream",
          "name": "stdout",
          "text": [
            "Mariana    \u001b[93m6.5 (Recuperação)\u001b[0m\n",
            "João       \u001b[92m8.0 (Aprovado)\u001b[0m\n",
            "Carlos     \u001b[91m4.0 (Reprovado)\u001b[0m\n",
            "José       \u001b[91m3.0 (Reprovado)\u001b[0m\n",
            "Pedro      \u001b[92m9.0 (Aprovado)\u001b[0m\n",
            "Maria      \u001b[93m5.5 (Recuperação)\u001b[0m\n",
            "Ana        \u001b[92m7.0 (Aprovado)\u001b[0m\n"
          ]
        }
      ]
    },
    {
      "cell_type": "markdown",
      "source": [
        "6. Crie uma função de log que receba uma mensagem, o nível de criticidade (INFO, WARNING, ERROR) e a hora atual. A função deve gerar uma string formatada com cor e estilo de acordo com o nível (INFO = azul, WARNING = amarelo, ERROR = vermelho). Use f-strings e datetime e # Cores ANSI para o terminal.\n",
        "\n",
        "```\n",
        "[2025-03-05 16:33:29] [INFO] Sistema iniciado\n",
        "[2025-03-05 16:33:29] [WARNING] Atenção: baixo estoque\n",
        "[2025-03-05 16:33:29] [ERROR] Falha na conexão\n",
        "```\n",
        "\n",
        "\n"
      ],
      "metadata": {
        "id": "YXZXkABXUiHF"
      }
    },
    {
      "cell_type": "code",
      "source": [
        "from datetime import datetime\n",
        "\n",
        "BLUE = \"\\033[94m\"\n",
        "YELLOW = \"\\033[93m\"\n",
        "RED = \"\\033[91m\"\n",
        "RESET = \"\\033[0m\"\n",
        "\n",
        "def log(message: str, level: str) -> str:\n",
        "    current_time = datetime.now().strftime(\"%Y-%m-%d %H:%M:%S\")\n",
        "    colors = {\"INFO\": BLUE, \"WARNING\": YELLOW, \"ERROR\": RED}\n",
        "    color = colors.get(level, RESET)\n",
        "    return f\"[{current_time}] [{color}{level}{RESET}] {message}\"\n",
        "\n",
        "print(log(\"Sistema iniciado\", \"INFO\"))\n",
        "print(log(\"Atenção: baixo estoque\", \"WARNING\"))\n",
        "print(log(\"Falha na conexão\", \"ERROR\"))"
      ],
      "metadata": {
        "colab": {
          "base_uri": "https://localhost:8080/"
        },
        "id": "inp6oaRFVmNp",
        "outputId": "395e3a29-7f1f-400e-f087-c7f8598d711b"
      },
      "execution_count": 6,
      "outputs": [
        {
          "output_type": "stream",
          "name": "stdout",
          "text": [
            "[2025-03-07 16:00:36] [\u001b[94mINFO\u001b[0m] Sistema iniciado\n",
            "[2025-03-07 16:00:36] [\u001b[93mWARNING\u001b[0m] Atenção: baixo estoque\n",
            "[2025-03-07 16:00:36] [\u001b[91mERROR\u001b[0m] Falha na conexão\n"
          ]
        }
      ]
    },
    {
      "cell_type": "markdown",
      "source": [
        "7. Peça ao usuário o nome de uma tabela, uma lista de colunas e seus tipos de dados, e gere dinamicamente uma string de comando SQL de criação da tabela (CREATE TABLE), formatada com identação correta e alinhamento dos tipos de dados.\n",
        "\n",
        "\n",
        "```\n",
        "CREATE TABLE clientes (\n",
        "    id INT PRIMARY KEY,\n",
        "    nome VARCHAR(100),\n",
        "    nascimento DATE,\n",
        "    saldo DECIMAL(10,2)\n",
        ");\n",
        "```\n",
        "\n",
        "\n"
      ],
      "metadata": {
        "id": "fNwBQ945V60s"
      }
    },
    {
      "cell_type": "code",
      "source": [
        "nome_tabela = input(\"Digite o nome da tabela: \")\n",
        "\n",
        "while True:\n",
        "    try:\n",
        "        quantidade_colunas = int(input(\"Digite a quantidade de colunas: \"))\n",
        "        if quantidade_colunas > 0:\n",
        "            break\n",
        "        else:\n",
        "            print(\"A quantidade de colunas deve ser maior que zero.\")\n",
        "    except ValueError:\n",
        "        print(\"Por favor, insira um número válido.\")\n",
        "\n",
        "colunas = []\n",
        "tipos_validos = {\"INT\", \"VARCHAR\", \"DATE\", \"DECIMAL\", \"FLOAT\", \"CHAR\", \"TEXT\", \"BOOLEAN\"}\n",
        "primary_key_set = False\n",
        "\n",
        "for i in range(quantidade_colunas):\n",
        "    nome_coluna = input(f\"Digite o nome da {i+1}ª coluna: \").strip()\n",
        "\n",
        "    while True:\n",
        "        tipo_coluna = input(f\"Digite o tipo de dado da {i+1}ª coluna (ex: VARCHAR(100), DECIMAL(10,2)): \").strip().upper()\n",
        "        tipo_base = tipo_coluna.split('(')[0]\n",
        "\n",
        "        if tipo_base in tipos_validos:\n",
        "            if tipo_base == \"VARCHAR\" and not tipo_coluna.endswith(')'):\n",
        "                print(\"VARCHAR deve ter um tamanho especificado, ex: VARCHAR(100).\")\n",
        "            elif tipo_base == \"DECIMAL\" and not tipo_coluna.endswith(')'):\n",
        "                print(\"DECIMAL deve ter precisão e escala especificadas, ex: DECIMAL(10,2).\")\n",
        "            else:\n",
        "                if not primary_key_set:\n",
        "                    is_primary_key = input(f\"A coluna {nome_coluna} é PRIMARY KEY? (s/n): \").strip().lower() == 's'\n",
        "                    if is_primary_key:\n",
        "                        tipo_coluna += \" PRIMARY KEY\"\n",
        "                        primary_key_set = True\n",
        "                colunas.append((nome_coluna, tipo_coluna))\n",
        "                break\n",
        "        else:\n",
        "            print(\"Tipo de dado inválido. Tipos válidos são: INT, VARCHAR, DATE, DECIMAL, FLOAT, CHAR, TEXT, BOOLEAN\")\n",
        "\n",
        "colunas_formatadas = \",\\n    \".join([f\"{nome:<15} {tipo}\" for nome, tipo in colunas])\n",
        "comando = f\"CREATE TABLE {nome_tabela} (\\n    {colunas_formatadas}\\n);\"\n",
        "\n",
        "print(f\"\\n{comando}\")"
      ],
      "metadata": {
        "colab": {
          "base_uri": "https://localhost:8080/"
        },
        "id": "q084OQlgY5nq",
        "outputId": "357b9fbf-ef56-457d-bf44-4052645840ad"
      },
      "execution_count": 7,
      "outputs": [
        {
          "output_type": "stream",
          "name": "stdout",
          "text": [
            "Digite o nome da tabela: clientes\n",
            "Digite a quantidade de colunas: 4\n",
            "Digite o nome da 1ª coluna: id\n",
            "Digite o tipo de dado da 1ª coluna (ex: VARCHAR(100), DECIMAL(10,2)): int\n",
            "A coluna id é PRIMARY KEY? (s/n): s\n",
            "Digite o nome da 2ª coluna: nome\n",
            "Digite o tipo de dado da 2ª coluna (ex: VARCHAR(100), DECIMAL(10,2)): varchar\n",
            "VARCHAR deve ter um tamanho especificado, ex: VARCHAR(100).\n",
            "Digite o tipo de dado da 2ª coluna (ex: VARCHAR(100), DECIMAL(10,2)): varchar(100)\n",
            "Digite o nome da 3ª coluna: nascimento\n",
            "Digite o tipo de dado da 3ª coluna (ex: VARCHAR(100), DECIMAL(10,2)): date\n",
            "Digite o nome da 4ª coluna: saldo\n",
            "Digite o tipo de dado da 4ª coluna (ex: VARCHAR(100), DECIMAL(10,2)): decimal\n",
            "DECIMAL deve ter precisão e escala especificadas, ex: DECIMAL(10,2).\n",
            "Digite o tipo de dado da 4ª coluna (ex: VARCHAR(100), DECIMAL(10,2)): decimal(10, 2)\n",
            "\n",
            "CREATE TABLE clientes (\n",
            "    id              INT PRIMARY KEY,\n",
            "    nome            VARCHAR(100),\n",
            "    nascimento      DATE,\n",
            "    saldo           DECIMAL(10, 2)\n",
            ");\n"
          ]
        }
      ]
    }
  ]
}