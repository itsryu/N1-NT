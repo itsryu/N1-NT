{
  "nbformat": 4,
  "nbformat_minor": 0,
  "metadata": {
    "colab": {
      "provenance": []
    },
    "kernelspec": {
      "name": "python3",
      "display_name": "Python 3"
    },
    "language_info": {
      "name": "python"
    }
  },
  "cells": [
    {
      "cell_type": "markdown",
      "source": [
        "# 1.\tCriação e manipulação:\n",
        "  -\tCrie uma lista chamada minha_lista contendo pelo menos 5 elementos de diferentes tipos de dados (números, strings, booleanos).\n",
        "  -\tExiba o primeiro e o último elemento da lista.\n",
        "  -\tUse fatiamento para exibir os três primeiros elementos da lista."
      ],
      "metadata": {
        "id": "79aTvQzh8x4E"
      }
    },
    {
      "cell_type": "code",
      "source": [
        "my_list = [1, 32.4, \"text\", True, False]\n",
        "\n",
        "print(my_list[0], my_list[-1])\n",
        "print(my_list[0:3])"
      ],
      "metadata": {
        "id": "tDtzElrG84WM"
      },
      "execution_count": null,
      "outputs": []
    },
    {
      "cell_type": "markdown",
      "source": [
        "# 2.\tModificação e adição de elementos:\n",
        "  -\tAdicione um novo elemento ao final da lista com append().\n",
        "  -\tInsira um elemento na posição 2 usando insert().\n",
        "  -\tRemova o terceiro elemento da lista e armazene-o em uma variável.\n",
        "  -\tExiba a lista resultante após as modificações.\n"
      ],
      "metadata": {
        "id": "7KpoRQD586bj"
      }
    },
    {
      "cell_type": "code",
      "source": [
        "my_list = [1, 32.4, \"text\", True, False]\n",
        "\n",
        "my_list.append(\"trust issues\")\n",
        "my_list.insert(2, \"tired\")\n",
        "text = my_list.pop(3)\n",
        "\n",
        "print(my_list)"
      ],
      "metadata": {
        "id": "vGziJpdD9BaM"
      },
      "execution_count": null,
      "outputs": []
    },
    {
      "cell_type": "markdown",
      "source": [
        "# 3.\tOrdenação e inversão:\n",
        "  -\tCrie uma lista de números desordenados e ordene-a com sort().\n",
        "  -\tInverta a ordem da lista utilizando reverse().\n",
        "  -\tTente ordenar uma lista contendo números e strings. O que acontece? Explique.\n"
      ],
      "metadata": {
        "id": "ygqzO_ya9GuT"
      }
    },
    {
      "cell_type": "code",
      "source": [
        "my_list = [0, 2, 4, 5, 6, 2, 6, 2, 10, 8]\n",
        "\n",
        "my_list.sort()\n",
        "print(\"Lista ordenada: \", my_list)\n",
        "my_list.reverse()\n",
        "print(\"Lista revertida: \", my_list)\n",
        "\n",
        "# Tentar ordenar a lista com uma string resultará em um erro."
      ],
      "metadata": {
        "id": "bv3vSeF-9LmD"
      },
      "execution_count": null,
      "outputs": []
    },
    {
      "cell_type": "markdown",
      "source": [
        "# 4.\tDesafio - Operações matemáticas em listas:\n",
        "  -\tCrie uma lista com números de 1 a 10.\n",
        "  -\tMultiplique cada elemento da lista por 2 e armazene o resultado em uma nova lista.\n",
        "  -\tFiltre os números pares da lista original e armazene-os em uma nova lista.\n"
      ],
      "metadata": {
        "id": "Q6boH5fu9OCM"
      }
    },
    {
      "cell_type": "code",
      "source": [
        "my_list = [1, 2, 3, 4, 5, 6, 7, 8, 9, 10]\n",
        "multiplied = []\n",
        "even = []\n",
        "\n",
        "for i in my_list:\n",
        "    multiplied.append(i * 2)\n",
        "\n",
        "    if(i % 2 == 0):\n",
        "        even.append(i)\n",
        "\n",
        "print(multiplied)\n",
        "print(even)"
      ],
      "metadata": {
        "id": "D8Bn32R79YLj"
      },
      "execution_count": null,
      "outputs": []
    },
    {
      "cell_type": "markdown",
      "source": [
        "# 5.\tCriação e acesso a elementos:\n",
        "  -\tCrie um dicionário chamado dados_pessoais contendo pelo menos três pares chave-valor, representando informações como nome, idade e cidade.\n",
        "  -\tAcesse e exiba o valor associado à chave \"idade\".\n",
        "  -\tAdicione um novo par chave-valor representando a profissão.\n"
      ],
      "metadata": {
        "id": "vdeMeqjR9a60"
      }
    },
    {
      "cell_type": "code",
      "source": [
        "dados_pessoais = {\n",
        "    'name': 'Victor',\n",
        "    'age': 22,\n",
        "    'city': 'Brasília/DF'\n",
        "}\n",
        "\n",
        "print(\"Idade: \", dados_pessoais['age'])\n",
        "\n",
        "dados_pessoais['work'] = 'Desenvolvedor'\n",
        "\n",
        "print(\"Profissão: \", dados_pessoais['work'])"
      ],
      "metadata": {
        "id": "j9b9HKZi9hqd"
      },
      "execution_count": null,
      "outputs": []
    },
    {
      "cell_type": "markdown",
      "source": [
        "# 6.\tModificação e remoção de elementos:\n",
        "  -\tModifique o valor da chave \"cidade\" para outra cidade.\n",
        "  -\tRemova a chave \"idade\" do dicionário e exiba o dicionário resultante.\n",
        "  -\tVerifique se a chave \"telefone\" está presente no dicionário.\n"
      ],
      "metadata": {
        "id": "sL3k3n6q9rcd"
      }
    },
    {
      "cell_type": "code",
      "source": [
        "dados_pessoais = {\n",
        "    'name': 'Victor',\n",
        "    'age': 22,\n",
        "    'city': 'Brasília/DF',\n",
        "    'work': 'Desenvolvedor'\n",
        "}\n",
        "\n",
        "dados_pessoais['city'] = 'São Paulo/SP'\n",
        "dados_pessoais.pop('age')\n",
        "\n",
        "print(dados_pessoais.get('number') if dados_pessoais.get('number') else 'Chave \\'Telefone\\' não encontrada')"
      ],
      "metadata": {
        "id": "76u1xuXc9wqt"
      },
      "execution_count": null,
      "outputs": []
    },
    {
      "cell_type": "markdown",
      "source": [
        "# 7.\tIteração e métodos úteis:\n",
        "  -\tPercorra o dicionário e exiba todas as chaves.\n",
        "  -\tPercorra o dicionário e exiba todos os valores.\n",
        "  -\tUtilize items() para exibir as chaves e os valores juntos.\n"
      ],
      "metadata": {
        "id": "dIB7YA_h9y-1"
      }
    },
    {
      "cell_type": "code",
      "source": [
        "dados_pessoais = {\n",
        "    'name': 'Victor',\n",
        "    'age': 22,\n",
        "    'city': 'Brasília/DF',\n",
        "    'work': 'Desenvolvedor'\n",
        "}\n",
        "\n",
        "print(\"Chaves: \")\n",
        "for key in dados_pessoais.keys():\n",
        "    print(f\"{key}\")\n",
        "print(\"\\n\")\n",
        "\n",
        "print(\"Valores: \")\n",
        "for value in dados_pessoais.values():\n",
        "    print(f\"{value}\")\n",
        "print(\"\\n\")\n",
        "\n",
        "print(\"Chaves-valores: \")\n",
        "for key, value in dados_pessoais.items():\n",
        "    print(f\"{key}: {value}\")"
      ],
      "metadata": {
        "id": "JnXWPbff95cd"
      },
      "execution_count": null,
      "outputs": []
    },
    {
      "cell_type": "markdown",
      "source": [
        "# 8.\tDesafio - Cadastro de usuários:\n",
        "  -\tCrie um dicionário chamado usuarios onde as chaves são números de CPF e os valores são nomes de pessoas.\n",
        "  -\tAdicione pelo menos três usuários ao dicionário.\n",
        "  -\tPermita que o usuário insira um CPF e verifique se ele está cadastrado.\n",
        "  -\tSe o CPF existir, exiba o nome correspondente; caso contrário, informe que o CPF não está cadastrado.\n"
      ],
      "metadata": {
        "id": "0Oe9ruSF98UN"
      }
    },
    {
      "cell_type": "code",
      "source": [
        "data = {\n",
        "    '12345678900': 'Fulano de Tal',\n",
        "    '98765432100': 'Beltrano de Tal',\n",
        "    '45612378900': 'Ciclano de Tal',\n",
        "    '78945612300': 'Deltrano de Tal',\n",
        "    '32165498700': 'Eltano de Tal'\n",
        "}\n",
        "\n",
        "input_cpf = input('Digite o CPF: ')\n",
        "\n",
        "if data.get(input_cpf):\n",
        "    print('Nome:', data[input_cpf])\n",
        "else:\n",
        "    print('CPF não encontrado')"
      ],
      "metadata": {
        "colab": {
          "base_uri": "https://localhost:8080/"
        },
        "id": "4mc-qjHo-Czl",
        "outputId": "a36becab-6a82-4991-80f0-6160977c22e8"
      },
      "execution_count": 1,
      "outputs": [
        {
          "output_type": "stream",
          "name": "stdout",
          "text": [
            "Digite o CPF: 12345678900\n",
            "Nome: Fulano de Tal\n"
          ]
        }
      ]
    }
  ]
}