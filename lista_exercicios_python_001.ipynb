{
  "nbformat": 4,
  "nbformat_minor": 0,
  "metadata": {
    "colab": {
      "provenance": [],
      "mount_file_id": "13zt2ypwAo8UZJyWi0KL2a8UQs4-Bnsmo",
      "authorship_tag": "ABX9TyMey7WLVTBJHKCuGmknnfkK",
      "include_colab_link": true
    },
    "kernelspec": {
      "name": "python3",
      "display_name": "Python 3"
    },
    "language_info": {
      "name": "python"
    }
  },
  "cells": [
    {
      "cell_type": "markdown",
      "metadata": {
        "id": "view-in-github",
        "colab_type": "text"
      },
      "source": [
        "<a href=\"https://colab.research.google.com/github/itsryu/N1-NT/blob/main/lista_exercicios_python_001.ipynb\" target=\"_parent\"><img src=\"https://colab.research.google.com/assets/colab-badge.svg\" alt=\"Open In Colab\"/></a>"
      ]
    },
    {
      "cell_type": "markdown",
      "source": [
        "# PRIMEIRA LISTA DE EXERCÍCIOS DE PYTHON"
      ],
      "metadata": {
        "id": "7K4c7EU4yEVq"
      }
    },
    {
      "cell_type": "markdown",
      "source": [
        "1.\tLer dois números inteiros, executar e mostrar o resultado das seguintes operações: adição, subtração, multiplicação e divisão."
      ],
      "metadata": {
        "id": "C60zTORK5uLf"
      }
    },
    {
      "cell_type": "code",
      "source": [
        "A = int(input(\"Digite o primeiro número: \"))\n",
        "B = int(input(\"Digite o segundo número: \"))\n",
        "\n",
        "print(\"Adição: \" + str(A + B))\n",
        "print(\"Subtração: \" + str(A - B))\n",
        "print(\"Multiplicação: \" + str(A * B))\n",
        "print(\"Divisão: \" + (str(A / B) if B != 0 else \"N/A\"))"
      ],
      "metadata": {
        "colab": {
          "base_uri": "https://localhost:8080/"
        },
        "id": "1e-CKA3E5wCH",
        "outputId": "f006ae91-804c-4490-f82d-c9df9d832262"
      },
      "execution_count": null,
      "outputs": [
        {
          "output_type": "stream",
          "name": "stdout",
          "text": [
            "Digite o primeiro número: 5\n",
            "Digite o segundo número: 0\n",
            "Adição: 5\n",
            "Subtração: 5\n",
            "Multiplicação: 0\n",
            "Divisão: 0\n"
          ]
        }
      ]
    },
    {
      "cell_type": "markdown",
      "source": [
        "2.\tEscreva um programa que receba uma string como entrada e retorne a string invertida.\n",
        "Exemplo: \"Olá\" → \"álO\"."
      ],
      "metadata": {
        "id": "yOy_NuM46lhP"
      }
    },
    {
      "cell_type": "code",
      "source": [
        "string = input(\"Digite uma string: \")\n",
        "\n",
        "for i in range(len(string) - 1, -1, -1):\n",
        "  print(string[i], end=\"\")"
      ],
      "metadata": {
        "colab": {
          "base_uri": "https://localhost:8080/"
        },
        "id": "VC4if2po6m2Y",
        "outputId": "8f0df058-fdac-4307-f0ef-086e49cd7e65"
      },
      "execution_count": null,
      "outputs": [
        {
          "output_type": "stream",
          "name": "stdout",
          "text": [
            "Digite uma string: Olá\n",
            "álO"
          ]
        }
      ]
    },
    {
      "cell_type": "markdown",
      "source": [
        "3.\tCrie um programa que conte o número de vogais (a, e, i, o, u) em uma string fornecida pelo usuário, ignorando maiúsculas e minúsculas.\n",
        "Exemplo: \"Python\" → 2 vogais.\n"
      ],
      "metadata": {
        "id": "0VcDyg1p7Jwn"
      }
    },
    {
      "cell_type": "code",
      "source": [
        "vogais = ['a', 'e', 'i', 'o', 'u']\n",
        "string = input(\"Digite uma string: \")\n",
        "count = 0\n",
        "\n",
        "for i in range(len(string)):\n",
        "  if string[i].lower() in vogais:\n",
        "    count += 1\n",
        "\n",
        "print(str(count) + \" vogais.\")"
      ],
      "metadata": {
        "colab": {
          "base_uri": "https://localhost:8080/"
        },
        "id": "xyxLquR77PRf",
        "outputId": "8a65b093-e0f5-4255-c1c4-0f35167ef009"
      },
      "execution_count": null,
      "outputs": [
        {
          "output_type": "stream",
          "name": "stdout",
          "text": [
            "Digite uma string: Python\n",
            "1 vogais.\n"
          ]
        }
      ]
    },
    {
      "cell_type": "markdown",
      "source": [
        "4.\tFaça um programa que receba três números do usuário e calcule a média aritmética deles.\n",
        "Exemplo: 4, 6, 8 → Média = (4 + 6 + 8) / 3 = 6."
      ],
      "metadata": {
        "id": "2AV7C1fZ70Cf"
      }
    },
    {
      "cell_type": "code",
      "source": [
        "sum = 0\n",
        "\n",
        "for i in range(3):\n",
        "  num = int(input(\"Digite o \" + str(i + 1) + \"º número: \"))\n",
        "  sum += num\n",
        "3\n",
        "print(\"Média: \" + str(sum / 3))"
      ],
      "metadata": {
        "colab": {
          "base_uri": "https://localhost:8080/"
        },
        "id": "ro1Zmy7n7122",
        "outputId": "25e2b838-48cc-4636-ef6a-fbae40addb38"
      },
      "execution_count": null,
      "outputs": [
        {
          "output_type": "stream",
          "name": "stdout",
          "text": [
            "Digite o 1º número: 6\n",
            "Digite o 2º número: 4\n",
            "Digite o 3º número: 3\n",
            "Média: 4.333333333333333\n"
          ]
        }
      ]
    },
    {
      "cell_type": "markdown",
      "source": [
        "5.\tEscreva um programa que calcule o fatorial de um número inteiro positivo fornecido. Use uma constante para representar o valor inicial (1).\n",
        "Exemplo: Entrada = 5 → Resultado = 5 × 4 × 3 × 2 × 1 = 120"
      ],
      "metadata": {
        "id": "9z0I0UBw8uim"
      }
    },
    {
      "cell_type": "code",
      "source": [
        "while(num := int(input(\"Digite um número inteiro positivo: \"))) < 0:\n",
        "  print(\"Número inválido!\")\n",
        "\n",
        "fatorial = 1\n",
        "\n",
        "for i in range(num, 0, -1):\n",
        "  fatorial *= i\n",
        "\n",
        "print(\"Fatorial: \" + str(fatorial))"
      ],
      "metadata": {
        "colab": {
          "base_uri": "https://localhost:8080/"
        },
        "id": "u1wNSM679ISv",
        "outputId": "33a7be87-7067-4569-e084-2d93ff337129"
      },
      "execution_count": null,
      "outputs": [
        {
          "output_type": "stream",
          "name": "stdout",
          "text": [
            "Digite um número inteiro positivo: 5\n",
            "Fatorial: 120\n"
          ]
        }
      ]
    },
    {
      "cell_type": "markdown",
      "source": [
        "6.\tEfetuar o cálculo da quantidade de litros de combustível gasto em uma viagem, utilizando um automóvel que faz 12 Km por litro. Para obter o cálculo, o usuário deve fornecer o tempo gasto na viagem e a velocidade média durante ela. Desta forma, será possível obter a distância percorrida com a fórmula DISTANCIA = TEMPO * VELOCIDADE. Tendo o valor da distância, basta calcular a quantidade de litros de combustível utilizada na viagem, com a fórmula: LITROS_USADOS = DISTÂNCIA / 12. O programa deve apresentar os valores da velocidade média, tempo gasto na viagem, a distância percorrida e a quantidade de litros utilizada na viagem."
      ],
      "metadata": {
        "id": "vMRyG4-R9u__"
      }
    },
    {
      "cell_type": "code",
      "source": [
        "tempo = int(input(\"Digite o tempo gasto na viagem: \"))\n",
        "velocidade = int(input(\"Digite a velocidade média durante a viagem: \"))\n",
        "\n",
        "distancia = tempo * velocidade\n",
        "litros = distancia / 12\n",
        "\n",
        "print(\"Velocidade média: \" + str(velocidade))\n",
        "print(\"Tempo gasto na viagem: \" + str(tempo))\n",
        "print(\"Distância percorrida: \" + str(distancia))\n",
        "print(\"Quantidade de litros utilizada na viagem: \" + str(litros))"
      ],
      "metadata": {
        "colab": {
          "base_uri": "https://localhost:8080/"
        },
        "id": "ZvTXoTw59yk_",
        "outputId": "1e82680e-9d34-4c35-dfbc-50fa0af56f85"
      },
      "execution_count": null,
      "outputs": [
        {
          "output_type": "stream",
          "name": "stdout",
          "text": [
            "Digite o tempo gasto na viagem: 12\n",
            "Digite a velocidade média durante a viagem: 80\n",
            "Velocidade média: 80\n",
            "Tempo gasto na viagem: 12\n",
            "Distância percorrida: 960\n",
            "Quantidade de litros utilizada na viagem: 80.0\n"
          ]
        }
      ]
    }
  ]
}