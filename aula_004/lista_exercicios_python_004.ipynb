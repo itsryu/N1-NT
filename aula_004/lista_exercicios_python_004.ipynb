{
  "cells": [
    {
      "cell_type": "markdown",
      "metadata": {
        "id": "eX0KXY_32_x1"
      },
      "source": [
        "# 1.\tCriação e Acesso a Tuplas\n",
        "  -\tCrie uma tupla chamada frutas contendo 5 nomes de frutas.\n",
        "  -\tExiba o terceiro elemento da tupla.\n",
        "  -\tTente modificar o segundo elemento e comente em seu código o que ocorreu e por quê.\n"
      ]
    },
    {
      "cell_type": "code",
      "execution_count": null,
      "metadata": {
        "id": "Z9Fp-0X_3Fc0"
      },
      "outputs": [],
      "source": [
        "frutas = ('banana', 'laranja', 'maçã', 'melancia', 'uva')\n",
        "\n",
        "print(frutas[2])\n",
        "\n",
        "frutas[1] = 'abacaxi'  # Erro: tuplas são imutáveis (não é possível alterar o valor de um elemento)"
      ]
    },
    {
      "cell_type": "markdown",
      "metadata": {
        "id": "TfLaMm0_39aw"
      },
      "source": [
        "# 2.\tFatiamento (Slicing) de Tuplas\n",
        "  -\tCrie uma tupla chamada numeros com os números de 1 a 10.\n",
        "  -\tUtilize slicing para extrair e exibir os elementos da posição 4 à 8 (lembre-se que o fatiamento não inclui o índice final).\n"
      ]
    },
    {
      "cell_type": "code",
      "execution_count": null,
      "metadata": {
        "id": "ewT21nxK4KFY"
      },
      "outputs": [],
      "source": [
        "numeros = (1, 2, 3, 4, 5, 6, 7, 8, 9, 10)\n",
        "\n",
        "print(numeros[4:9])"
      ]
    },
    {
      "cell_type": "markdown",
      "metadata": {
        "id": "IcajUBsf4rkC"
      },
      "source": [
        "# 3.\tConcatenação e Repetição\n",
        "  -\tCrie duas tuplas: t1 = (1, 2, 3) e t2 = (4, 5).\n",
        "  -\tConcatene as tuplas e armazene o resultado em uma nova tupla chamada t3.\n",
        "  -\tExiba t3 repetida 3 vezes (use o operador *).\n"
      ]
    },
    {
      "cell_type": "code",
      "execution_count": null,
      "metadata": {
        "id": "kJ-yFDnY5RiM"
      },
      "outputs": [],
      "source": [
        "t1 = (1, 2, 3)\n",
        "t2 = (4, 5)\n",
        "t3 = t1 + t2\n",
        "\n",
        "print(t3 * 3)"
      ]
    },
    {
      "cell_type": "markdown",
      "metadata": {
        "id": "DRRmb4dU5fh1"
      },
      "source": [
        "# 1.\tOperações com Conjuntos\n",
        "  -\tCrie dois conjuntos:\n",
        "    -\tA = {1, 2, 3, 4}\n",
        "    -\tB = {3, 4, 5, 6}\n",
        "  -\tCalcule e exiba:\n",
        "    -\tA união de A e B.\n",
        "    -\tA interseção de A e B.\n",
        "    -\tA diferença entre A e B (A - B) e entre B e A (B - A).\n",
        "    -\tA diferença simétrica entre A e B.\n"
      ]
    },
    {
      "cell_type": "code",
      "execution_count": null,
      "metadata": {
        "id": "7FT88LLf51vF"
      },
      "outputs": [],
      "source": [
        "A = {1, 2, 3, 4}\n",
        "B = {3, 4, 5, 6}\n",
        "\n",
        "print(A | B)  # União\n",
        "print(A & B)  # Interseção\n",
        "print(A - B)  # Diferença\n",
        "print(B - A)  # Diferença\n",
        "print(A ^ B)  # Diferença simétrica"
      ]
    },
    {
      "cell_type": "markdown",
      "metadata": {
        "id": "f5nMu_yg6MBO"
      },
      "source": [
        "# 2.\tVerificação de Subconjuntos\n",
        "  -\tUtilizando os conjuntos A e B criados anteriormente, verifique e exiba se:\n",
        "    -\tA é subconjunto de B.\n",
        "    -\tB é subconjunto de A.\n",
        "    -\tOs conjuntos são disjuntos (ou seja, não possuem elementos em comum).\n"
      ]
    },
    {
      "cell_type": "code",
      "execution_count": null,
      "metadata": {
        "id": "TbWKicTt6nP2"
      },
      "outputs": [],
      "source": [
        "A = {1, 2, 3, 4}\n",
        "B = {3, 4, 5, 6}\n",
        "\n",
        "print(A <= B)\n",
        "print(B <= A)\n",
        "print(A.isdisjoint(B))"
      ]
    },
    {
      "cell_type": "markdown",
      "metadata": {
        "id": "U8ZKS89D7a11"
      },
      "source": [
        "# 3.\tExpressões Booleanas\n",
        "  -\tCrie e avalie as seguintes expressões booleanas, imprimindo seus resultados:\n",
        "    -\tTrue and False\n",
        "    -\tnot (False or True)\n",
        "    -\t(3 > 2) and (5 == 5)\n",
        "    -\tComente o que cada expressão significa e por que o resultado foi aquele obtido.\n"
      ]
    },
    {
      "cell_type": "code",
      "execution_count": null,
      "metadata": {
        "id": "rM_3eKpd7oaJ"
      },
      "outputs": [],
      "source": [
        "print(True and False)  # False\n",
        "# Verifica se ambas as condições são verdadeiras.\n",
        "\n",
        "print(not (False or True))  # False\n",
        "# Verifica se a condição é falsa.\n",
        "\n",
        "print((3 > 2) and (5 == 5))  # True\n",
        "# Verifica se ambas as condições são verdadeiras."
      ]
    },
    {
      "cell_type": "markdown",
      "metadata": {
        "id": "evviqS0b7_bR"
      },
      "source": [
        "# 4.\tConversão de Lista para Conjunto\n",
        "  -\tCrie uma lista com elementos repetidos, por exemplo, lista = [1, 2, 2, 3, 4, 4, 5].\n",
        "  -\tConverta essa lista para um conjunto e exiba o conjunto resultante, observando como os elementos duplicados são removidos.\n"
      ]
    },
    {
      "cell_type": "code",
      "execution_count": null,
      "metadata": {
        "id": "b_icbWSU8EGJ"
      },
      "outputs": [],
      "source": [
        "lista = [1, 2, 2, 3, 4, 4, 5]\n",
        "\n",
        "print(set(lista))"
      ]
    },
    {
      "cell_type": "markdown",
      "metadata": {
        "id": "JGq3z1Y28fXE"
      },
      "source": [
        "1.\tEscrita de Arquivos\n",
        "  -\tCrie (ou sobrescreva) um arquivo chamado exemplo.txt usando o comando magic %%writefile ou com o método open() em modo de escrita.\n",
        "  -\tEscreva pelo menos 5 linhas de texto no arquivo, certificando-se de incluir o caractere de nova linha (\\n) ao final de cada linha.\n"
      ]
    },
    {
      "cell_type": "code",
      "execution_count": null,
      "metadata": {
        "id": "WNM_3vrf9a5r"
      },
      "outputs": [],
      "source": [
        "%%writefile exemplo.txt\n",
        "Hello World!\n",
        "Meu nome é Victor.\n",
        "Tenho 22 anos.\n",
        "Sou um estudante de ciência da computação.\n",
        "Sou um desenvolvedor Typescript."
      ]
    },
    {
      "cell_type": "code",
      "execution_count": 20,
      "metadata": {
        "id": "fOmy649x-Vyl"
      },
      "outputs": [],
      "source": [
        "file = open('exemplo.txt', 'w', encoding='utf-8')\n",
        "\n",
        "file.write('Hello World!\\n')\n",
        "file.write('Meu nome é Victor.\\n')\n",
        "file.write('Tenho 22 anos.\\n')\n",
        "file.write('Sou um estudante de ciência da computação.\\n')\n",
        "file.write('Sou um desenvolvedor Typescript.\\n')\n",
        "\n",
        "file.close()"
      ]
    },
    {
      "cell_type": "code",
      "execution_count": null,
      "metadata": {
        "id": "UwvbZMbu9ln0"
      },
      "outputs": [],
      "source": [
        "file = open('exemplo.txt', 'r')\n",
        "\n",
        "for line in file:\n",
        "    print(line, end='')"
      ]
    },
    {
      "cell_type": "markdown",
      "metadata": {
        "id": "PYTYxKhK_SxI"
      },
      "source": [
        "# 2.\tLeitura de Arquivos\n",
        "  -\tAbra o arquivo exemplo.txt e leia todas as linhas com o método readlines().\n",
        "  -\tImprima cada linha removendo o caractere de nova linha (use fatiamento ou o método strip()).\n"
      ]
    },
    {
      "cell_type": "code",
      "execution_count": null,
      "metadata": {
        "id": "IWSRzWSeALAv"
      },
      "outputs": [],
      "source": [
        "file = open(\"exemplo.txt\", \"r\", encoding=\"utf-8\")\n",
        "\n",
        "lines = file.readlines()\n",
        "\n",
        "for line in lines:\n",
        "    print(line.strip())\n",
        "\n",
        "file.close()"
      ]
    },
    {
      "cell_type": "markdown",
      "metadata": {
        "id": "YAwIYPqCBX2R"
      },
      "source": [
        "# 3.\tAtualização Condicional do Arquivo\n",
        "  -\tEscreva um script que verifique se exemplo.txt possui pelo menos 5 linhas.\n",
        "  -\tSe não tiver, adicione novas linhas ao final do arquivo para que o total seja 5 (use o modo \"append\").\n"
      ]
    },
    {
      "cell_type": "code",
      "execution_count": null,
      "metadata": {
        "id": "zCa5edDXBoux"
      },
      "outputs": [],
      "source": [
        "file = open(\"exemplo.txt\", \"r\", encoding=\"utf-8\")\n",
        "\n",
        "lines = file.readlines()\n",
        "total_lines = len(lines)\n",
        "\n",
        "if total_lines < 5:\n",
        "    file = open(\"exemplo.txt\", \"a\", encoding=\"utf-8\")\n",
        "    file.write(input(\"Digite algo: \") + \"\\n\")\n",
        "    file.close()\n",
        "else:\n",
        "    for line in lines:\n",
        "        print(line.strip())\n",
        "\n",
        "file.close()\n"
      ]
    },
    {
      "cell_type": "markdown",
      "metadata": {
        "id": "2tfQdIasCNm5"
      },
      "source": [
        "# 4.\tRetorno do Método write()\n",
        "  -\tUtilize o método write() para adicionar uma nova linha ao arquivo e capture o valor retornado.\n",
        "  -\tEm um comentário, explique o que esse valor representa (dica: quantidade de caracteres escritos\n"
      ]
    },
    {
      "cell_type": "code",
      "execution_count": null,
      "metadata": {
        "id": "B4eX0m_qCRbi"
      },
      "outputs": [],
      "source": [
        "file = open('exemplo.txt', 'w', encoding='utf-8')\n",
        "\n",
        "added = file.write('Hello World!\\n')\n",
        "\n",
        "print(added) # 13\n",
        "# Representa a quantidade de caracteres escritos no arquivo.\n",
        "\n",
        "file.close()"
      ]
    },
    {
      "cell_type": "markdown",
      "metadata": {
        "id": "5wjUG5JqCpvC"
      },
      "source": [
        "# 5.\tUso da Estrutura with\n",
        "  -\tRefaça os exercícios de escrita e leitura utilizando a instrução with open(...) as arquivo: para garantir que o arquivo seja fechado automaticamente após o uso.\n"
      ]
    },
    {
      "cell_type": "code",
      "execution_count": null,
      "metadata": {
        "id": "SoxzBz4NDEkq"
      },
      "outputs": [],
      "source": [
        "with open('exemplo.txt', 'w', encoding='utf-8') as file:\n",
        "    file.write('Hello World!\\n')\n",
        "\n",
        "with open('exemplo.txt', 'r', encoding='utf-8') as file:\n",
        "    for line in file.readlines():\n",
        "        print(line.strip())"
      ]
    }
  ],
  "metadata": {
    "colab": {
      "provenance": []
    },
    "kernelspec": {
      "display_name": "Python 3",
      "name": "python3"
    },
    "language_info": {
      "name": "python"
    }
  },
  "nbformat": 4,
  "nbformat_minor": 0
}
